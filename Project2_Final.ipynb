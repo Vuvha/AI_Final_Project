{
  "nbformat": 4,
  "nbformat_minor": 0,
  "metadata": {
    "colab": {
      "provenance": [],
      "gpuType": "T4",
      "include_colab_link": true
    },
    "kernelspec": {
      "name": "python3",
      "display_name": "Python 3"
    },
    "language_info": {
      "name": "python"
    },
    "accelerator": "GPU"
  },
  "cells": [
    {
      "cell_type": "markdown",
      "metadata": {
        "id": "view-in-github",
        "colab_type": "text"
      },
      "source": [
        "<a href=\"https://colab.research.google.com/github/Vuvha/AI_Final_Project/blob/master/Project2_Final.ipynb\" target=\"_parent\"><img src=\"https://colab.research.google.com/assets/colab-badge.svg\" alt=\"Open In Colab\"/></a>"
      ]
    },
    {
      "cell_type": "code",
      "execution_count": null,
      "metadata": {
        "id": "C0GNjsHlU59-"
      },
      "outputs": [],
      "source": [
        "!pip install torchdata -qq\n",
        "!pip install portalocker -qq\n",
        "\n",
        "import torch\n",
        "import torch.nn as nn\n",
        "import torch.nn.functional as F\n",
        "import torchtext\n",
        "\n",
        "train_iter, test_iter = torchtext.datasets.IMDB(split=('train', 'test'))\n",
        "tokenizer = torchtext.data.utils.get_tokenizer('basic_english')"
      ]
    },
    {
      "cell_type": "code",
      "source": [
        "MODELNAME = \"imdb-model.pt\"\n",
        "EPOCHS = 10\n",
        "BATCHSIZE = 64\n",
        "LR = 0.001\n",
        "DEVICE = \"cuda\" if torch.cuda.is_available() else \"cpu\""
      ],
      "metadata": {
        "id": "IONlhw26VJhr"
      },
      "execution_count": null,
      "outputs": []
    },
    {
      "cell_type": "code",
      "source": [
        "# Preprocess the data\n",
        "train_data = [(label, tokenizer(line)) for label, line in train_iter]\n",
        "train_data.sort(key=lambda x: len(x[1]))\n",
        "test_data = [(label, tokenizer(line)) for label, line in test_iter]\n",
        "test_data.sort(key=lambda x: len(x[1]))"
      ],
      "metadata": {
        "id": "Zs2YKpsbVOAZ"
      },
      "execution_count": null,
      "outputs": []
    },
    {
      "cell_type": "code",
      "source": [
        "import matplotlib.pyplot as plt\n",
        "import seaborn as sns\n",
        "label = []\n",
        "for i in range(len(train_data)):\n",
        "    label.append(train_data[i][0])\n",
        "\n",
        "sns.countplot(x=label)\n",
        "plt.title ('Label')\n",
        "plt.show()"
      ],
      "metadata": {
        "colab": {
          "base_uri": "https://localhost:8080/",
          "height": 452
        },
        "id": "upl0Amy0VtGl",
        "outputId": "df717fc2-7edf-4ff8-f103-8495c58489d1"
      },
      "execution_count": null,
      "outputs": [
        {
          "output_type": "display_data",
          "data": {
            "text/plain": [
              "<Figure size 640x480 with 1 Axes>"
            ],
            "image/png": "[encoded data removed]"
          },
          "metadata": {}
        }
      ]
    },
    {
      "cell_type": "code",
      "source": [
        "def make_vocab(data, min_freq):\n",
        "    vocab = {}\n",
        "    for label, tokenlist in data:\n",
        "        for token in tokenlist:\n",
        "            if token not in vocab:\n",
        "                vocab[token] = 0\n",
        "            vocab[token] += 1\n",
        "    vocablist = [('<unk>', 0), ('<pad>', 0), ('<cls>', 0), ('<eos>', 0)]\n",
        "    vocabidx = {}\n",
        "    for token, freq in vocab.items():\n",
        "        if freq >= min_freq:\n",
        "            idx = len(vocablist)\n",
        "            vocablist.append((token, freq))\n",
        "            vocabidx[token] = idx\n",
        "    vocabidx['<unk>'] = 0\n",
        "    vocabidx['<pad>'] = 1\n",
        "    vocabidx['<cls>'] = 2\n",
        "    vocabidx['<eos>'] = 3\n",
        "    return vocablist, vocabidx\n",
        "\n",
        "\n",
        "vocablist, vocabidx = make_vocab(train_data, 10)"
      ],
      "metadata": {
        "id": "GoXBv8RWVQri"
      },
      "execution_count": null,
      "outputs": []
    },
    {
      "cell_type": "code",
      "source": [
        "def preprocess(data, vocabidx):\n",
        "    processed_data = []\n",
        "    for label, tokenlist in data:\n",
        "        tkl = ['<cls>']\n",
        "        for token in tokenlist:\n",
        "            tkl.append(token if token in vocabidx else '<unk>')\n",
        "        tkl.append('<eos>')\n",
        "        processed_data.append((label, tkl))\n",
        "    return processed_data\n",
        "\n",
        "train_data = preprocess(train_data, vocabidx)\n",
        "test_data = preprocess(test_data, vocabidx)"
      ],
      "metadata": {
        "id": "dNa6S7u6VRi2"
      },
      "execution_count": null,
      "outputs": []
    },
    {
      "cell_type": "code",
      "source": [
        "def make_batch(data, batchsize):\n",
        "    batches = []\n",
        "    b_labels = []\n",
        "    b_tokenlists = []\n",
        "    for label, tokenlist in data:\n",
        "        b_labels.append(label)\n",
        "        b_tokenlists.append(tokenlist)\n",
        "        if len(b_labels) >= batchsize:\n",
        "            batches.append((b_tokenlists, b_labels))\n",
        "            b_labels = []\n",
        "            b_tokenlists = []\n",
        "    if len(b_labels) > 0:\n",
        "        batches.append((b_tokenlists, b_labels))\n",
        "    return batches\n",
        "\n",
        "\n",
        "train_data = make_batch(train_data, BATCHSIZE)\n",
        "test_data = make_batch(test_data, BATCHSIZE)"
      ],
      "metadata": {
        "id": "syDwznOZVUGu"
      },
      "execution_count": null,
      "outputs": []
    },
    {
      "cell_type": "code",
      "source": [
        "def padding(batches):\n",
        "    for tokenlists, labels in batches:\n",
        "        maxlen = max([len(x) for x in tokenlists])\n",
        "        for tkl in tokenlists:\n",
        "            for _ in range(maxlen - len(tkl)):\n",
        "                tkl.append('<pad>')\n",
        "    return batches\n",
        "\n",
        "\n",
        "train_data = padding(train_data)\n",
        "test_data = padding(test_data)"
      ],
      "metadata": {
        "id": "cnSa-RzpVYVV"
      },
      "execution_count": null,
      "outputs": []
    },
    {
      "cell_type": "code",
      "source": [
        "def word2id(batches, vocabidx):\n",
        "    converted_data = []\n",
        "    for tokenlists, labels in batches:\n",
        "        id_labels = [label - 1 for label in labels]\n",
        "        id_tokenlists = []\n",
        "        for tokenlist in tokenlists:\n",
        "            id_tokenlists.append([vocabidx[token] for token in tokenlist])\n",
        "        converted_data.append((id_tokenlists, id_labels))\n",
        "    return converted_data\n",
        "\n",
        "\n",
        "train_data = word2id(train_data, vocabidx)\n",
        "test_data = word2id(test_data, vocabidx)"
      ],
      "metadata": {
        "id": "rdWG_JAGVaoU"
      },
      "execution_count": null,
      "outputs": []
    },
    {
      "cell_type": "code",
      "source": [
        "n_layers = 2\n",
        "input_dim = len(vocablist)\n",
        "emb_dim = 128\n",
        "output_dim = 2\n",
        "hidden_dim = 256\n",
        "class LSTM(torch.nn.Module):\n",
        "  def __init__(self, input_dim, output_dim, emb_dim, hidden_dim, n_layers, dropout= 0.5):\n",
        "    super(LSTM, self).__init__()\n",
        "    self.n_layers = n_layers\n",
        "    self.hidden_dim = hidden_dim\n",
        "    self.emb = torch.nn.Embedding(input_dim, emb_dim, padding_idx = vocabidx['<pad>'])\n",
        "    self.dropout = torch.nn.Dropout(0.5)\n",
        "    self.lstm = torch.nn.LSTM(emb_dim, hidden_dim, n_layers, dropout =0.5)\n",
        "    self.fc = torch.nn.Linear(self.hidden_dim, output_dim)\n",
        "\n",
        "  def forward(self, x):\n",
        "    e = self.dropout(self.emb(x))\n",
        "    out, (hidden, cell) = self.lstm(e)\n",
        "    for i in range(x.size()[0]):\n",
        "      output = self.fc(out[-1])\n",
        "    return output"
      ],
      "metadata": {
        "id": "Nk9qXjKJVeUZ"
      },
      "execution_count": null,
      "outputs": []
    },
    {
      "cell_type": "code",
      "source": [],
      "metadata": {
        "id": "9Pi8mNchYlbc"
      },
      "execution_count": null,
      "outputs": []
    },
    {
      "cell_type": "code",
      "source": [
        "def train():\n",
        "    model = LSTM(input_dim, output_dim, 300, 128, n_layers).to(DEVICE)\n",
        "    optimizer = torch.optim.Adam(model.parameters(), lr=LR)\n",
        "    for epoch in range(EPOCHS):\n",
        "        loss = 0\n",
        "        for tokenlists, labels in train_data:\n",
        "            tokenlists = torch.tensor(tokenlists, dtype=torch.long).transpose(0, 1).to(DEVICE)\n",
        "            labels = torch.tensor(labels, dtype=torch.long).to(DEVICE)\n",
        "            optimizer.zero_grad()\n",
        "            logits = model(tokenlists)\n",
        "            batch_loss = F.cross_entropy(logits, labels)\n",
        "            batch_loss.backward()\n",
        "            optimizer.step()\n",
        "            loss += batch_loss.item()\n",
        "\n",
        "        print(\"Epoch\", epoch + 1, \"Loss:\", loss / len(train_data))\n",
        "\n",
        "    torch.save(model.state_dict(), MODELNAME)"
      ],
      "metadata": {
        "id": "az6s2_70Vg25"
      },
      "execution_count": null,
      "outputs": []
    },
    {
      "cell_type": "code",
      "source": [
        "train()"
      ],
      "metadata": {
        "colab": {
          "base_uri": "https://localhost:8080/"
        },
        "id": "r82418rJWQBz",
        "outputId": "ea49ea20-5cd0-4cf2-99f7-0194639bf3b7"
      },
      "execution_count": null,
      "outputs": [
        {
          "output_type": "stream",
          "name": "stdout",
          "text": [
            "Epoch 1 Loss: 0.5641748308182677\n",
            "Epoch 2 Loss: 0.5025628686446668\n",
            "Epoch 3 Loss: 0.4534835527505716\n",
            "Epoch 4 Loss: 0.405535626756337\n",
            "Epoch 5 Loss: 0.3523941966978943\n",
            "Epoch 6 Loss: 0.3226012429008094\n",
            "Epoch 7 Loss: 0.27654169126392325\n",
            "Epoch 8 Loss: 0.25052328755521713\n",
            "Epoch 9 Loss: 0.22308550418719\n",
            "Epoch 10 Loss: 0.20651289229960088\n"
          ]
        }
      ]
    },
    {
      "cell_type": "code",
      "source": [
        "def test():\n",
        "    model = LSTM(input_dim, output_dim, 300, 128, n_layers).to(DEVICE)\n",
        "    model.load_state_dict(torch.load(MODELNAME))\n",
        "    model.eval()\n",
        "\n",
        "    total = 0\n",
        "    correct = 0\n",
        "    with torch.no_grad():\n",
        "        for tokenlists, labels in test_data:\n",
        "            tokenlists = torch.tensor(tokenlists, dtype=torch.long).transpose(0, 1).to(DEVICE)\n",
        "            labels = torch.tensor(labels, dtype=torch.long).to(DEVICE)\n",
        "            logits = model(tokenlists)\n",
        "            _, predicted = torch.max(logits.data, 1)\n",
        "            total += labels.size(0)\n",
        "            correct += (predicted == labels).sum().item()\n",
        "    accuracy = correct / total\n",
        "\n",
        "    print(\"Correct: \",correct)\n",
        "    print(\"Total: \",total)\n",
        "    print(\"Accuracy:\",accuracy)"
      ],
      "metadata": {
        "id": "OBbv2C2wVjXQ"
      },
      "execution_count": null,
      "outputs": []
    },
    {
      "cell_type": "code",
      "source": [
        "test()"
      ],
      "metadata": {
        "id": "VP0Z3wPJWZyK",
        "colab": {
          "base_uri": "https://localhost:8080/"
        },
        "outputId": "a256cbb6-78e7-4afe-b231-fe2d432093f8"
      },
      "execution_count": null,
      "outputs": [
        {
          "output_type": "stream",
          "name": "stdout",
          "text": [
            "Correct:  22153\n",
            "Total:  25000\n",
            "Accuracy: 0.88612\n"
          ]
        }
      ]
    }
  ]
}